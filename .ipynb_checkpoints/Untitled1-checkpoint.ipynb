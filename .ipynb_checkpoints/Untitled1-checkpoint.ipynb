{
 "cells": [
  {
   "cell_type": "code",
   "execution_count": 1,
   "id": "afdcbbd2",
   "metadata": {},
   "outputs": [],
   "source": [
    "import numpy as np\n",
    "import matplotlib.pyplot as plt\n",
    "import seaborn as sns\n",
    "sns.set()"
   ]
  },
  {
   "cell_type": "code",
   "execution_count": 2,
   "id": "2caa89a4",
   "metadata": {},
   "outputs": [
    {
     "name": "stdout",
     "output_type": "stream",
     "text": [
      "Requirement already satisfied: matplotlib in c:\\users\\emsalsiz\\anaconda3\\lib\\site-packages (3.7.2)\n",
      "Requirement already satisfied: contourpy>=1.0.1 in c:\\users\\emsalsiz\\anaconda3\\lib\\site-packages (from matplotlib) (1.0.5)\n",
      "Requirement already satisfied: cycler>=0.10 in c:\\users\\emsalsiz\\anaconda3\\lib\\site-packages (from matplotlib) (0.11.0)\n",
      "Requirement already satisfied: fonttools>=4.22.0 in c:\\users\\emsalsiz\\anaconda3\\lib\\site-packages (from matplotlib) (4.25.0)\n",
      "Requirement already satisfied: kiwisolver>=1.0.1 in c:\\users\\emsalsiz\\anaconda3\\lib\\site-packages (from matplotlib) (1.4.4)\n",
      "Requirement already satisfied: numpy>=1.20 in c:\\users\\emsalsiz\\anaconda3\\lib\\site-packages (from matplotlib) (1.24.3)\n",
      "Requirement already satisfied: packaging>=20.0 in c:\\users\\emsalsiz\\anaconda3\\lib\\site-packages (from matplotlib) (23.1)\n",
      "Requirement already satisfied: pillow>=6.2.0 in c:\\users\\emsalsiz\\anaconda3\\lib\\site-packages (from matplotlib) (9.4.0)\n",
      "Requirement already satisfied: pyparsing<3.1,>=2.3.1 in c:\\users\\emsalsiz\\anaconda3\\lib\\site-packages (from matplotlib) (3.0.9)\n",
      "Requirement already satisfied: python-dateutil>=2.7 in c:\\users\\emsalsiz\\anaconda3\\lib\\site-packages (from matplotlib) (2.8.2)\n",
      "Requirement already satisfied: six>=1.5 in c:\\users\\emsalsiz\\anaconda3\\lib\\site-packages (from python-dateutil>=2.7->matplotlib) (1.16.0)\n",
      "Note: you may need to restart the kernel to use updated packages.\n"
     ]
    }
   ],
   "source": [
    "pip install matplotlib"
   ]
  },
  {
   "cell_type": "code",
   "execution_count": 2,
   "id": "55798c5b",
   "metadata": {},
   "outputs": [
    {
     "data": {
      "text/plain": [
       "array([70., 57., 73., 90., 55., 55., 92., 75., 51., 71., 51., 51., 65.,\n",
       "       22., 26., 49., 40., 66., 42., 32., 89., 55., 61., 32., 49., 62.,\n",
       "       37., 68., 48., 54., 48., 97., 60., 39., 76., 36., 64., 21., 33.,\n",
       "       64., 75., 63., 58., 54., 30., 46., 51., 81., 67., 25., 66., 52.,\n",
       "       46., 72., 81., 79., 43., 54., 67., 80., 50., 56., 38., 36., 76.,\n",
       "       87., 59., 80., 67., 47., 67., 91., 59., 91.,  8., 76., 62., 54.,\n",
       "       62., 20., 56., 67., 90., 50., 44., 50., 78., 67., 49., 70., 62.,\n",
       "       79., 46., 53., 52., 31., 66., 65., 60., 55.])"
      ]
     },
     "execution_count": 2,
     "metadata": {},
     "output_type": "execute_result"
    }
   ],
   "source": [
    "np.random.seed(42)\n",
    "arr=np.random.normal(loc=60,scale=20,size=100)#loc=ortalama(mean),scale=standart sapma(standart devetion)\n",
    "arr=np.round(arr,0)\n",
    "arr"
   ]
  },
  {
   "cell_type": "code",
   "execution_count": 6,
   "id": "6c32be3e",
   "metadata": {},
   "outputs": [
    {
     "data": {
      "text/plain": [
       "0     70\n",
       "1     57\n",
       "2     73\n",
       "3     90\n",
       "4     55\n",
       "      ..\n",
       "95    31\n",
       "96    66\n",
       "97    65\n",
       "98    60\n",
       "99    55\n",
       "Name: age, Length: 100, dtype: int64"
      ]
     },
     "execution_count": 6,
     "metadata": {},
     "output_type": "execute_result"
    }
   ],
   "source": [
    "\n",
    "ages=pd.Series(arr,dtype='int64',name='age')\n",
    "ages"
   ]
  },
  {
   "cell_type": "code",
   "execution_count": 7,
   "id": "b48381f8",
   "metadata": {},
   "outputs": [
    {
     "name": "stdout",
     "output_type": "stream",
     "text": [
      "Q1:  48.0\n",
      "Q3:  68.5\n"
     ]
    }
   ],
   "source": [
    "Q1=np.percentile(ages,25)\n",
    "Q3=np.percentile(ages,75)\n",
    "print('Q1: ',Q1)\n",
    "print('Q3: ',Q3)"
   ]
  },
  {
   "cell_type": "code",
   "execution_count": 8,
   "id": "accecc45",
   "metadata": {},
   "outputs": [
    {
     "data": {
      "text/plain": [
       "20.5"
      ]
     },
     "execution_count": 8,
     "metadata": {},
     "output_type": "execute_result"
    }
   ],
   "source": [
    "IQR=Q3-Q1\n",
    "IQR#interquartile range"
   ]
  },
  {
   "cell_type": "code",
   "execution_count": null,
   "id": "a181bd59",
   "metadata": {},
   "outputs": [],
   "source": []
  }
 ],
 "metadata": {
  "kernelspec": {
   "display_name": "Python 3 (ipykernel)",
   "language": "python",
   "name": "python3"
  },
  "language_info": {
   "codemirror_mode": {
    "name": "ipython",
    "version": 3
   },
   "file_extension": ".py",
   "mimetype": "text/x-python",
   "name": "python",
   "nbconvert_exporter": "python",
   "pygments_lexer": "ipython3",
   "version": "3.11.5"
  }
 },
 "nbformat": 4,
 "nbformat_minor": 5
}
