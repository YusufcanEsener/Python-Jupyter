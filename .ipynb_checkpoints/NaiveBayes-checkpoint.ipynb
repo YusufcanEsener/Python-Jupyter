{
 "cells": [
  {
   "cell_type": "code",
   "execution_count": 1,
   "id": "ab6b854a",
   "metadata": {},
   "outputs": [
    {
     "data": {
      "text/html": [
       "<div>\n",
       "<style scoped>\n",
       "    .dataframe tbody tr th:only-of-type {\n",
       "        vertical-align: middle;\n",
       "    }\n",
       "\n",
       "    .dataframe tbody tr th {\n",
       "        vertical-align: top;\n",
       "    }\n",
       "\n",
       "    .dataframe thead th {\n",
       "        text-align: right;\n",
       "    }\n",
       "</style>\n",
       "<table border=\"1\" class=\"dataframe\">\n",
       "  <thead>\n",
       "    <tr style=\"text-align: right;\">\n",
       "      <th></th>\n",
       "      <th>Yas</th>\n",
       "      <th>Cinsiyet</th>\n",
       "      <th>Gogus_agrisi_tipi</th>\n",
       "      <th>Dinlenme_kan_basinci</th>\n",
       "      <th>Kolesterol</th>\n",
       "      <th>Aclik_kan_sekeri</th>\n",
       "      <th>Istirahat_elektrokardiyogram_sonuclari</th>\n",
       "      <th>Maximum_kalp_atis_hizi</th>\n",
       "      <th>Egzersize_bagli_anjina</th>\n",
       "      <th>st_segmentinin_egimi</th>\n",
       "      <th>Kalp_hasta</th>\n",
       "    </tr>\n",
       "  </thead>\n",
       "  <tbody>\n",
       "    <tr>\n",
       "      <th>0</th>\n",
       "      <td>40</td>\n",
       "      <td>2</td>\n",
       "      <td>3</td>\n",
       "      <td>140</td>\n",
       "      <td>289</td>\n",
       "      <td>1</td>\n",
       "      <td>1</td>\n",
       "      <td>172</td>\n",
       "      <td>2</td>\n",
       "      <td>3</td>\n",
       "      <td>Yok</td>\n",
       "    </tr>\n",
       "    <tr>\n",
       "      <th>1</th>\n",
       "      <td>49</td>\n",
       "      <td>1</td>\n",
       "      <td>2</td>\n",
       "      <td>160</td>\n",
       "      <td>180</td>\n",
       "      <td>1</td>\n",
       "      <td>1</td>\n",
       "      <td>156</td>\n",
       "      <td>2</td>\n",
       "      <td>2</td>\n",
       "      <td>Var</td>\n",
       "    </tr>\n",
       "    <tr>\n",
       "      <th>2</th>\n",
       "      <td>37</td>\n",
       "      <td>2</td>\n",
       "      <td>3</td>\n",
       "      <td>130</td>\n",
       "      <td>283</td>\n",
       "      <td>1</td>\n",
       "      <td>2</td>\n",
       "      <td>98</td>\n",
       "      <td>2</td>\n",
       "      <td>3</td>\n",
       "      <td>Yok</td>\n",
       "    </tr>\n",
       "    <tr>\n",
       "      <th>3</th>\n",
       "      <td>48</td>\n",
       "      <td>1</td>\n",
       "      <td>1</td>\n",
       "      <td>138</td>\n",
       "      <td>214</td>\n",
       "      <td>1</td>\n",
       "      <td>1</td>\n",
       "      <td>108</td>\n",
       "      <td>1</td>\n",
       "      <td>2</td>\n",
       "      <td>Var</td>\n",
       "    </tr>\n",
       "    <tr>\n",
       "      <th>4</th>\n",
       "      <td>54</td>\n",
       "      <td>2</td>\n",
       "      <td>2</td>\n",
       "      <td>150</td>\n",
       "      <td>195</td>\n",
       "      <td>1</td>\n",
       "      <td>1</td>\n",
       "      <td>122</td>\n",
       "      <td>2</td>\n",
       "      <td>3</td>\n",
       "      <td>Yok</td>\n",
       "    </tr>\n",
       "  </tbody>\n",
       "</table>\n",
       "</div>"
      ],
      "text/plain": [
       "   Yas  Cinsiyet  Gogus_agrisi_tipi  Dinlenme_kan_basinci  Kolesterol  \\\n",
       "0   40         2                  3                   140         289   \n",
       "1   49         1                  2                   160         180   \n",
       "2   37         2                  3                   130         283   \n",
       "3   48         1                  1                   138         214   \n",
       "4   54         2                  2                   150         195   \n",
       "\n",
       "   Aclik_kan_sekeri  Istirahat_elektrokardiyogram_sonuclari  \\\n",
       "0                 1                                       1   \n",
       "1                 1                                       1   \n",
       "2                 1                                       2   \n",
       "3                 1                                       1   \n",
       "4                 1                                       1   \n",
       "\n",
       "   Maximum_kalp_atis_hizi  Egzersize_bagli_anjina  st_segmentinin_egimi  \\\n",
       "0                     172                       2                     3   \n",
       "1                     156                       2                     2   \n",
       "2                      98                       2                     3   \n",
       "3                     108                       1                     2   \n",
       "4                     122                       2                     3   \n",
       "\n",
       "  Kalp_hasta  \n",
       "0        Yok  \n",
       "1        Var  \n",
       "2        Yok  \n",
       "3        Var  \n",
       "4        Yok  "
      ]
     },
     "execution_count": 1,
     "metadata": {},
     "output_type": "execute_result"
    }
   ],
   "source": [
    "import numpy as np\n",
    "import pandas as pd\n",
    "import matplotlib.pyplot as plt\n",
    "dataset = pd.read_csv('kalpsayisal.csv', sep=';')\n",
    "dataset.head()"
   ]
  },
  {
   "cell_type": "code",
   "execution_count": 2,
   "id": "aa1b9c1e",
   "metadata": {},
   "outputs": [],
   "source": [
    "degistir={'Yok': 1 , 'Var': 2}\n",
    "dataset['Kalp_hasta'] = dataset['Kalp_hasta'].map(degistir) #nominal değerleri nümeric yaptı"
   ]
  },
  {
   "cell_type": "code",
   "execution_count": 3,
   "id": "605ac510",
   "metadata": {},
   "outputs": [],
   "source": [
    "X=dataset.iloc[:,:10]\n",
    "y=dataset.iloc[:,-1]"
   ]
  },
  {
   "cell_type": "code",
   "execution_count": 4,
   "id": "a7fe38b8",
   "metadata": {},
   "outputs": [
    {
     "data": {
      "text/html": [
       "<div>\n",
       "<style scoped>\n",
       "    .dataframe tbody tr th:only-of-type {\n",
       "        vertical-align: middle;\n",
       "    }\n",
       "\n",
       "    .dataframe tbody tr th {\n",
       "        vertical-align: top;\n",
       "    }\n",
       "\n",
       "    .dataframe thead th {\n",
       "        text-align: right;\n",
       "    }\n",
       "</style>\n",
       "<table border=\"1\" class=\"dataframe\">\n",
       "  <thead>\n",
       "    <tr style=\"text-align: right;\">\n",
       "      <th></th>\n",
       "      <th>Yas</th>\n",
       "      <th>Cinsiyet</th>\n",
       "      <th>Gogus_agrisi_tipi</th>\n",
       "      <th>Dinlenme_kan_basinci</th>\n",
       "      <th>Kolesterol</th>\n",
       "      <th>Aclik_kan_sekeri</th>\n",
       "      <th>Istirahat_elektrokardiyogram_sonuclari</th>\n",
       "      <th>Maximum_kalp_atis_hizi</th>\n",
       "      <th>Egzersize_bagli_anjina</th>\n",
       "      <th>st_segmentinin_egimi</th>\n",
       "    </tr>\n",
       "  </thead>\n",
       "  <tbody>\n",
       "    <tr>\n",
       "      <th>0</th>\n",
       "      <td>40</td>\n",
       "      <td>2</td>\n",
       "      <td>3</td>\n",
       "      <td>140</td>\n",
       "      <td>289</td>\n",
       "      <td>1</td>\n",
       "      <td>1</td>\n",
       "      <td>172</td>\n",
       "      <td>2</td>\n",
       "      <td>3</td>\n",
       "    </tr>\n",
       "    <tr>\n",
       "      <th>1</th>\n",
       "      <td>49</td>\n",
       "      <td>1</td>\n",
       "      <td>2</td>\n",
       "      <td>160</td>\n",
       "      <td>180</td>\n",
       "      <td>1</td>\n",
       "      <td>1</td>\n",
       "      <td>156</td>\n",
       "      <td>2</td>\n",
       "      <td>2</td>\n",
       "    </tr>\n",
       "    <tr>\n",
       "      <th>2</th>\n",
       "      <td>37</td>\n",
       "      <td>2</td>\n",
       "      <td>3</td>\n",
       "      <td>130</td>\n",
       "      <td>283</td>\n",
       "      <td>1</td>\n",
       "      <td>2</td>\n",
       "      <td>98</td>\n",
       "      <td>2</td>\n",
       "      <td>3</td>\n",
       "    </tr>\n",
       "    <tr>\n",
       "      <th>3</th>\n",
       "      <td>48</td>\n",
       "      <td>1</td>\n",
       "      <td>1</td>\n",
       "      <td>138</td>\n",
       "      <td>214</td>\n",
       "      <td>1</td>\n",
       "      <td>1</td>\n",
       "      <td>108</td>\n",
       "      <td>1</td>\n",
       "      <td>2</td>\n",
       "    </tr>\n",
       "    <tr>\n",
       "      <th>4</th>\n",
       "      <td>54</td>\n",
       "      <td>2</td>\n",
       "      <td>2</td>\n",
       "      <td>150</td>\n",
       "      <td>195</td>\n",
       "      <td>1</td>\n",
       "      <td>1</td>\n",
       "      <td>122</td>\n",
       "      <td>2</td>\n",
       "      <td>3</td>\n",
       "    </tr>\n",
       "    <tr>\n",
       "      <th>...</th>\n",
       "      <td>...</td>\n",
       "      <td>...</td>\n",
       "      <td>...</td>\n",
       "      <td>...</td>\n",
       "      <td>...</td>\n",
       "      <td>...</td>\n",
       "      <td>...</td>\n",
       "      <td>...</td>\n",
       "      <td>...</td>\n",
       "      <td>...</td>\n",
       "    </tr>\n",
       "    <tr>\n",
       "      <th>913</th>\n",
       "      <td>45</td>\n",
       "      <td>2</td>\n",
       "      <td>4</td>\n",
       "      <td>110</td>\n",
       "      <td>264</td>\n",
       "      <td>1</td>\n",
       "      <td>1</td>\n",
       "      <td>132</td>\n",
       "      <td>2</td>\n",
       "      <td>2</td>\n",
       "    </tr>\n",
       "    <tr>\n",
       "      <th>914</th>\n",
       "      <td>68</td>\n",
       "      <td>2</td>\n",
       "      <td>1</td>\n",
       "      <td>144</td>\n",
       "      <td>193</td>\n",
       "      <td>2</td>\n",
       "      <td>1</td>\n",
       "      <td>141</td>\n",
       "      <td>2</td>\n",
       "      <td>2</td>\n",
       "    </tr>\n",
       "    <tr>\n",
       "      <th>915</th>\n",
       "      <td>57</td>\n",
       "      <td>2</td>\n",
       "      <td>1</td>\n",
       "      <td>130</td>\n",
       "      <td>131</td>\n",
       "      <td>1</td>\n",
       "      <td>1</td>\n",
       "      <td>115</td>\n",
       "      <td>1</td>\n",
       "      <td>2</td>\n",
       "    </tr>\n",
       "    <tr>\n",
       "      <th>916</th>\n",
       "      <td>57</td>\n",
       "      <td>1</td>\n",
       "      <td>3</td>\n",
       "      <td>130</td>\n",
       "      <td>236</td>\n",
       "      <td>1</td>\n",
       "      <td>3</td>\n",
       "      <td>174</td>\n",
       "      <td>2</td>\n",
       "      <td>2</td>\n",
       "    </tr>\n",
       "    <tr>\n",
       "      <th>917</th>\n",
       "      <td>38</td>\n",
       "      <td>2</td>\n",
       "      <td>2</td>\n",
       "      <td>138</td>\n",
       "      <td>175</td>\n",
       "      <td>1</td>\n",
       "      <td>1</td>\n",
       "      <td>173</td>\n",
       "      <td>2</td>\n",
       "      <td>3</td>\n",
       "    </tr>\n",
       "  </tbody>\n",
       "</table>\n",
       "<p>918 rows × 10 columns</p>\n",
       "</div>"
      ],
      "text/plain": [
       "     Yas  Cinsiyet  Gogus_agrisi_tipi  Dinlenme_kan_basinci  Kolesterol  \\\n",
       "0     40         2                  3                   140         289   \n",
       "1     49         1                  2                   160         180   \n",
       "2     37         2                  3                   130         283   \n",
       "3     48         1                  1                   138         214   \n",
       "4     54         2                  2                   150         195   \n",
       "..   ...       ...                ...                   ...         ...   \n",
       "913   45         2                  4                   110         264   \n",
       "914   68         2                  1                   144         193   \n",
       "915   57         2                  1                   130         131   \n",
       "916   57         1                  3                   130         236   \n",
       "917   38         2                  2                   138         175   \n",
       "\n",
       "     Aclik_kan_sekeri  Istirahat_elektrokardiyogram_sonuclari  \\\n",
       "0                   1                                       1   \n",
       "1                   1                                       1   \n",
       "2                   1                                       2   \n",
       "3                   1                                       1   \n",
       "4                   1                                       1   \n",
       "..                ...                                     ...   \n",
       "913                 1                                       1   \n",
       "914                 2                                       1   \n",
       "915                 1                                       1   \n",
       "916                 1                                       3   \n",
       "917                 1                                       1   \n",
       "\n",
       "     Maximum_kalp_atis_hizi  Egzersize_bagli_anjina  st_segmentinin_egimi  \n",
       "0                       172                       2                     3  \n",
       "1                       156                       2                     2  \n",
       "2                        98                       2                     3  \n",
       "3                       108                       1                     2  \n",
       "4                       122                       2                     3  \n",
       "..                      ...                     ...                   ...  \n",
       "913                     132                       2                     2  \n",
       "914                     141                       2                     2  \n",
       "915                     115                       1                     2  \n",
       "916                     174                       2                     2  \n",
       "917                     173                       2                     3  \n",
       "\n",
       "[918 rows x 10 columns]"
      ]
     },
     "execution_count": 4,
     "metadata": {},
     "output_type": "execute_result"
    }
   ],
   "source": [
    "X"
   ]
  },
  {
   "cell_type": "code",
   "execution_count": 5,
   "id": "3a936bfe",
   "metadata": {},
   "outputs": [
    {
     "data": {
      "text/plain": [
       "0      1\n",
       "1      2\n",
       "2      1\n",
       "3      2\n",
       "4      1\n",
       "      ..\n",
       "913    2\n",
       "914    2\n",
       "915    2\n",
       "916    2\n",
       "917    1\n",
       "Name: Kalp_hasta, Length: 918, dtype: int64"
      ]
     },
     "execution_count": 5,
     "metadata": {},
     "output_type": "execute_result"
    }
   ],
   "source": [
    "y"
   ]
  },
  {
   "cell_type": "code",
   "execution_count": 6,
   "id": "8567cf34",
   "metadata": {},
   "outputs": [],
   "source": [
    "from sklearn.model_selection import train_test_split\n",
    "X_train, X_test, y_train, y_test = train_test_split(X, y, test_size = 0.20, random_state = 42)"
   ]
  },
  {
   "cell_type": "code",
   "execution_count": 7,
   "id": "097c3682",
   "metadata": {},
   "outputs": [
    {
     "name": "stdout",
     "output_type": "stream",
     "text": [
      "Accuracy: 83.69565217391305\n"
     ]
    }
   ],
   "source": [
    "from sklearn.naive_bayes import GaussianNB   \n",
    "classifier = GaussianNB()\n",
    "classifier.fit(X_train, y_train)\n",
    "y_pred = classifier.predict(X_test)\n",
    "\n",
    "from sklearn import metrics\n",
    "print(\"Accuracy:\",metrics.accuracy_score(y_test, y_pred)*100)"
   ]
  },
  {
   "cell_type": "code",
   "execution_count": 8,
   "id": "e1c1dfc6",
   "metadata": {},
   "outputs": [
    {
     "name": "stdout",
     "output_type": "stream",
     "text": [
      "[[68  9]\n",
      " [21 86]]\n"
     ]
    }
   ],
   "source": [
    "from sklearn.metrics import confusion_matrix\n",
    "print(confusion_matrix(y_test, y_pred))"
   ]
  },
  {
   "cell_type": "code",
   "execution_count": 9,
   "id": "8657e42a",
   "metadata": {},
   "outputs": [
    {
     "name": "stdout",
     "output_type": "stream",
     "text": [
      "              precision    recall  f1-score   support\n",
      "\n",
      "           1       0.76      0.88      0.82        77\n",
      "           2       0.91      0.80      0.85       107\n",
      "\n",
      "    accuracy                           0.84       184\n",
      "   macro avg       0.83      0.84      0.84       184\n",
      "weighted avg       0.85      0.84      0.84       184\n",
      "\n"
     ]
    }
   ],
   "source": [
    "from sklearn.metrics import classification_report\n",
    "print(classification_report(y_test, y_pred))"
   ]
  },
  {
   "cell_type": "code",
   "execution_count": 10,
   "id": "67beacfe",
   "metadata": {},
   "outputs": [
    {
     "data": {
      "image/png": "[encoded data removed]",
      "text/plain": [
       "<Figure size 432x288 with 2 Axes>"
      ]
     },
     "metadata": {
      "needs_background": "light"
     },
     "output_type": "display_data"
    }
   ],
   "source": [
    "import seaborn as sns\n",
    "sns.heatmap(confusion_matrix(y_test,y_pred),annot=True,cmap=plt.cm.Pastel1)\n",
    "plt.show()"
   ]
  },
  {
   "cell_type": "code",
   "execution_count": 11,
   "id": "0fa09650",
   "metadata": {},
   "outputs": [
    {
     "name": "stdout",
     "output_type": "stream",
     "text": [
      "MAE:  0.16304347826086957\n",
      "RMSE:  0.4037864265436241\n"
     ]
    }
   ],
   "source": [
    "from sklearn.metrics import mean_squared_error\n",
    "from sklearn.metrics import mean_absolute_error\n",
    "from math import sqrt\n",
    "from sklearn import metrics\n",
    "print(\"MAE: \",metrics.mean_absolute_error(y_test, y_pred))\n",
    "print(\"RMSE: \",sqrt(mean_squared_error(y_test,y_pred)))"
   ]
  },
  {
   "cell_type": "code",
   "execution_count": 12,
   "id": "63a89dab",
   "metadata": {},
   "outputs": [
    {
     "data": {
      "text/plain": [
       "67.80248894030024"
      ]
     },
     "execution_count": 12,
     "metadata": {},
     "output_type": "execute_result"
    }
   ],
   "source": [
    "import numpy as np\n",
    "from sklearn.metrics import matthews_corrcoef\n",
    "matthews_corrcoef(y_test, y_pred)*100"
   ]
  },
  {
   "cell_type": "code",
   "execution_count": 13,
   "id": "db620bb7",
   "metadata": {},
   "outputs": [
    {
     "data": {
      "text/plain": [
       "0.6721700914597933"
      ]
     },
     "execution_count": 13,
     "metadata": {},
     "output_type": "execute_result"
    }
   ],
   "source": [
    "from sklearn.metrics import cohen_kappa_score\n",
    "cohen_kappa_score(y_test, y_pred)"
   ]
  },
  {
   "cell_type": "code",
   "execution_count": 14,
   "id": "e08aed0e",
   "metadata": {},
   "outputs": [
    {
     "name": "stdout",
     "output_type": "stream",
     "text": [
      "roc: 0.8434276004369461\n"
     ]
    }
   ],
   "source": [
    "from sklearn.metrics import roc_auc_score\n",
    "print(\"roc:\",metrics.roc_auc_score(y_test,y_pred))"
   ]
  },
  {
   "cell_type": "code",
   "execution_count": 15,
   "id": "011cd547",
   "metadata": {},
   "outputs": [
    {
     "name": "stdout",
     "output_type": "stream",
     "text": [
      "precision 0.7640449438202247\n"
     ]
    }
   ],
   "source": [
    "from sklearn.metrics import precision_score\n",
    "print(\"precision\", metrics.precision_score(y_test,y_pred))"
   ]
  },
  {
   "cell_type": "code",
   "execution_count": 16,
   "id": "79b25d62",
   "metadata": {},
   "outputs": [
    {
     "name": "stdout",
     "output_type": "stream",
     "text": [
      "Precision: 0.7640449438202247\n",
      "Recall: 0.8831168831168831\n",
      "f ölçütü 0.8192771084337349\n"
     ]
    }
   ],
   "source": [
    "from sklearn import metrics\n",
    "# Model Precision: what percentage of positive tuples are labeled as such?\n",
    "print(\"Precision:\",metrics.precision_score(y_test, y_pred))\n",
    "\n",
    "# Model Recall: what percentage of positive tuples are labelled as such?\n",
    "print(\"Recall:\",metrics.recall_score(y_test, y_pred))\n",
    "print(\"f ölçütü\",metrics.f1_score(y_test,y_pred))"
   ]
  },
  {
   "cell_type": "code",
   "execution_count": 18,
   "id": "38eaf6cd",
   "metadata": {},
   "outputs": [
    {
     "data": {
      "text/plain": [
       "0      3\n",
       "1      2\n",
       "2      3\n",
       "3      2\n",
       "4      3\n",
       "      ..\n",
       "913    2\n",
       "914    2\n",
       "915    2\n",
       "916    2\n",
       "917    3\n",
       "Name: st_segmentinin_egimi, Length: 918, dtype: int64"
      ]
     },
     "execution_count": 18,
     "metadata": {},
     "output_type": "execute_result"
    }
   ],
   "source": [
    "dataset.st_segmentinin_egimi"
   ]
  },
  {
   "cell_type": "code",
   "execution_count": 19,
   "id": "25caba97",
   "metadata": {},
   "outputs": [
    {
     "data": {
      "image/png": "[encoded data removed]",
      "text/plain": [
       "<Figure size 720x360 with 1 Axes>"
      ]
     },
     "metadata": {
      "needs_background": "light"
     },
     "output_type": "display_data"
    }
   ],
   "source": [
    "pd.crosstab(dataset.Istirahat_elektrokardiyogram_sonuclari,dataset.Kalp_hasta).plot(kind=\"bar\",figsize=(10,5),color=['Red','Blue' ])\n",
    "plt.title('İstirahat elektrokardiyogram sonuçlarına göre Kalp Hastalığı Olan Kişiler')\n",
    "\n",
    "plt.xlabel('İstirahat Elektrokardiyogram Sonuçları')\n",
    "plt.ylabel('Kalp hastalığı')\n",
    "plt.show()"
   ]
  },
  {
   "cell_type": "code",
   "execution_count": 20,
   "id": "90a07fba",
   "metadata": {},
   "outputs": [
    {
     "data": {
      "text/html": [
       "<div>\n",
       "<style scoped>\n",
       "    .dataframe tbody tr th:only-of-type {\n",
       "        vertical-align: middle;\n",
       "    }\n",
       "\n",
       "    .dataframe tbody tr th {\n",
       "        vertical-align: top;\n",
       "    }\n",
       "\n",
       "    .dataframe thead th {\n",
       "        text-align: right;\n",
       "    }\n",
       "</style>\n",
       "<table border=\"1\" class=\"dataframe\">\n",
       "  <thead>\n",
       "    <tr style=\"text-align: right;\">\n",
       "      <th></th>\n",
       "      <th>Yas</th>\n",
       "      <th>Cinsiyet</th>\n",
       "      <th>Gogus_agrisi_tipi</th>\n",
       "      <th>Dinlenme_kan_basinci</th>\n",
       "      <th>Kolesterol</th>\n",
       "      <th>Aclik_kan_sekeri</th>\n",
       "      <th>Istirahat_elektrokardiyogram_sonuclari</th>\n",
       "      <th>Maximum_kalp_atis_hizi</th>\n",
       "      <th>Egzersize_bagli_anjina</th>\n",
       "      <th>st_segmentinin_egimi</th>\n",
       "    </tr>\n",
       "    <tr>\n",
       "      <th>Kalp_hasta</th>\n",
       "      <th></th>\n",
       "      <th></th>\n",
       "      <th></th>\n",
       "      <th></th>\n",
       "      <th></th>\n",
       "      <th></th>\n",
       "      <th></th>\n",
       "      <th></th>\n",
       "      <th></th>\n",
       "      <th></th>\n",
       "    </tr>\n",
       "  </thead>\n",
       "  <tbody>\n",
       "    <tr>\n",
       "      <th>1</th>\n",
       "      <td>50.551220</td>\n",
       "      <td>1.651220</td>\n",
       "      <td>2.236585</td>\n",
       "      <td>130.180488</td>\n",
       "      <td>227.463415</td>\n",
       "      <td>1.107317</td>\n",
       "      <td>1.548780</td>\n",
       "      <td>148.151220</td>\n",
       "      <td>1.865854</td>\n",
       "      <td>2.739024</td>\n",
       "    </tr>\n",
       "    <tr>\n",
       "      <th>2</th>\n",
       "      <td>55.899606</td>\n",
       "      <td>1.901575</td>\n",
       "      <td>1.354331</td>\n",
       "      <td>134.198819</td>\n",
       "      <td>178.035433</td>\n",
       "      <td>1.334646</td>\n",
       "      <td>1.647638</td>\n",
       "      <td>127.655512</td>\n",
       "      <td>1.377953</td>\n",
       "      <td>2.057087</td>\n",
       "    </tr>\n",
       "  </tbody>\n",
       "</table>\n",
       "</div>"
      ],
      "text/plain": [
       "                  Yas  Cinsiyet  Gogus_agrisi_tipi  Dinlenme_kan_basinci  \\\n",
       "Kalp_hasta                                                                 \n",
       "1           50.551220  1.651220           2.236585            130.180488   \n",
       "2           55.899606  1.901575           1.354331            134.198819   \n",
       "\n",
       "            Kolesterol  Aclik_kan_sekeri  \\\n",
       "Kalp_hasta                                 \n",
       "1           227.463415          1.107317   \n",
       "2           178.035433          1.334646   \n",
       "\n",
       "            Istirahat_elektrokardiyogram_sonuclari  Maximum_kalp_atis_hizi  \\\n",
       "Kalp_hasta                                                                   \n",
       "1                                         1.548780              148.151220   \n",
       "2                                         1.647638              127.655512   \n",
       "\n",
       "            Egzersize_bagli_anjina  st_segmentinin_egimi  \n",
       "Kalp_hasta                                                \n",
       "1                         1.865854              2.739024  \n",
       "2                         1.377953              2.057087  "
      ]
     },
     "execution_count": 20,
     "metadata": {},
     "output_type": "execute_result"
    }
   ],
   "source": [
    "dataset.groupby('Kalp_hasta').mean()"
   ]
  },
  {
   "cell_type": "code",
   "execution_count": 21,
   "id": "4ebdd587",
   "metadata": {},
   "outputs": [
    {
     "data": {
      "text/plain": [
       "2    508\n",
       "1    410\n",
       "Name: Kalp_hasta, dtype: int64"
      ]
     },
     "execution_count": 21,
     "metadata": {},
     "output_type": "execute_result"
    }
   ],
   "source": [
    "y.value_counts()"
   ]
  },
  {
   "cell_type": "code",
   "execution_count": 22,
   "id": "f35383fe",
   "metadata": {},
   "outputs": [
    {
     "data": {
      "image/png": "[encoded data removed]",
      "text/plain": [
       "<Figure size 432x288 with 1 Axes>"
      ]
     },
     "metadata": {
      "needs_background": "light"
     },
     "output_type": "display_data"
    }
   ],
   "source": [
    "sns.countplot(x=\"Kalp_hasta\", data=dataset, palette=\"bwr\")\n",
    "plt.show()"
   ]
  },
  {
   "cell_type": "code",
   "execution_count": null,
   "id": "ab108d08",
   "metadata": {},
   "outputs": [],
   "source": []
  }
 ],
 "metadata": {
  "kernelspec": {
   "display_name": "Python 3 (ipykernel)",
   "language": "python",
   "name": "python3"
  },
  "language_info": {
   "codemirror_mode": {
    "name": "ipython",
    "version": 3
   },
   "file_extension": ".py",
   "mimetype": "text/x-python",
   "name": "python",
   "nbconvert_exporter": "python",
   "pygments_lexer": "ipython3",
   "version": "3.11.5"
  }
 },
 "nbformat": 4,
 "nbformat_minor": 5
}
