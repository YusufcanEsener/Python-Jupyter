{
 "cells": [
  {
   "cell_type": "code",
   "execution_count": null,
   "id": "75df42ce",
   "metadata": {
    "id": "75df42ce"
   },
   "outputs": [],
   "source": [
    "import numpy as np\n",
    "import pandas as pd\n",
    "import pydotplus\n",
    "import matplotlib.pyplot as plt\n",
    "import matplotlib.image as pltimg\n",
    "from sklearn import tree\n",
    "from sklearn.metrics import accuracy_score\n",
    "from sklearn.tree import DecisionTreeClassifier\n",
    "from sklearn.model_selection import train_test_split\n",
    "\n",
    "kalp=pd.read_csv(\"kalpsayisal.csv\", sep=';')"
   ]
  },
  {
   "cell_type": "code",
   "execution_count": null,
   "id": "cb238a68",
   "metadata": {
    "id": "cb238a68",
    "outputId": "30df856d-c7ee-48a1-e5fc-af73ef683d9e"
   },
   "outputs": [
    {
     "data": {
      "text/html": [
       "<div>\n",
       "<style scoped>\n",
       "    .dataframe tbody tr th:only-of-type {\n",
       "        vertical-align: middle;\n",
       "    }\n",
       "\n",
       "    .dataframe tbody tr th {\n",
       "        vertical-align: top;\n",
       "    }\n",
       "\n",
       "    .dataframe thead th {\n",
       "        text-align: right;\n",
       "    }\n",
       "</style>\n",
       "<table border=\"1\" class=\"dataframe\">\n",
       "  <thead>\n",
       "    <tr style=\"text-align: right;\">\n",
       "      <th></th>\n",
       "      <th>Yas</th>\n",
       "      <th>Cinsiyet</th>\n",
       "      <th>Gogus_agrisi_tipi</th>\n",
       "      <th>Dinlenme_kan_basinci</th>\n",
       "      <th>Kolesterol</th>\n",
       "      <th>Aclik_kan_sekeri</th>\n",
       "      <th>Istirahat_elektrokardiyogram_sonuclari</th>\n",
       "      <th>Maximum_kalp_atis_hizi</th>\n",
       "      <th>Egzersize_bagli_anjina</th>\n",
       "      <th>st_segmentinin_egimi</th>\n",
       "      <th>Kalp_hasta</th>\n",
       "    </tr>\n",
       "  </thead>\n",
       "  <tbody>\n",
       "    <tr>\n",
       "      <th>0</th>\n",
       "      <td>40</td>\n",
       "      <td>2</td>\n",
       "      <td>3</td>\n",
       "      <td>140</td>\n",
       "      <td>289</td>\n",
       "      <td>1</td>\n",
       "      <td>1</td>\n",
       "      <td>172</td>\n",
       "      <td>2</td>\n",
       "      <td>3</td>\n",
       "      <td>Yok</td>\n",
       "    </tr>\n",
       "    <tr>\n",
       "      <th>1</th>\n",
       "      <td>49</td>\n",
       "      <td>1</td>\n",
       "      <td>2</td>\n",
       "      <td>160</td>\n",
       "      <td>180</td>\n",
       "      <td>1</td>\n",
       "      <td>1</td>\n",
       "      <td>156</td>\n",
       "      <td>2</td>\n",
       "      <td>2</td>\n",
       "      <td>Var</td>\n",
       "    </tr>\n",
       "    <tr>\n",
       "      <th>2</th>\n",
       "      <td>37</td>\n",
       "      <td>2</td>\n",
       "      <td>3</td>\n",
       "      <td>130</td>\n",
       "      <td>283</td>\n",
       "      <td>1</td>\n",
       "      <td>2</td>\n",
       "      <td>98</td>\n",
       "      <td>2</td>\n",
       "      <td>3</td>\n",
       "      <td>Yok</td>\n",
       "    </tr>\n",
       "    <tr>\n",
       "      <th>3</th>\n",
       "      <td>48</td>\n",
       "      <td>1</td>\n",
       "      <td>1</td>\n",
       "      <td>138</td>\n",
       "      <td>214</td>\n",
       "      <td>1</td>\n",
       "      <td>1</td>\n",
       "      <td>108</td>\n",
       "      <td>1</td>\n",
       "      <td>2</td>\n",
       "      <td>Var</td>\n",
       "    </tr>\n",
       "    <tr>\n",
       "      <th>4</th>\n",
       "      <td>54</td>\n",
       "      <td>2</td>\n",
       "      <td>2</td>\n",
       "      <td>150</td>\n",
       "      <td>195</td>\n",
       "      <td>1</td>\n",
       "      <td>1</td>\n",
       "      <td>122</td>\n",
       "      <td>2</td>\n",
       "      <td>3</td>\n",
       "      <td>Yok</td>\n",
       "    </tr>\n",
       "  </tbody>\n",
       "</table>\n",
       "</div>"
      ],
      "text/plain": [
       "   Yas  Cinsiyet  Gogus_agrisi_tipi  Dinlenme_kan_basinci  Kolesterol  \\\n",
       "0   40         2                  3                   140         289   \n",
       "1   49         1                  2                   160         180   \n",
       "2   37         2                  3                   130         283   \n",
       "3   48         1                  1                   138         214   \n",
       "4   54         2                  2                   150         195   \n",
       "\n",
       "   Aclik_kan_sekeri  Istirahat_elektrokardiyogram_sonuclari  \\\n",
       "0                 1                                       1   \n",
       "1                 1                                       1   \n",
       "2                 1                                       2   \n",
       "3                 1                                       1   \n",
       "4                 1                                       1   \n",
       "\n",
       "   Maximum_kalp_atis_hizi  Egzersize_bagli_anjina  st_segmentinin_egimi  \\\n",
       "0                     172                       2                     3   \n",
       "1                     156                       2                     2   \n",
       "2                      98                       2                     3   \n",
       "3                     108                       1                     2   \n",
       "4                     122                       2                     3   \n",
       "\n",
       "  Kalp_hasta  \n",
       "0        Yok  \n",
       "1        Var  \n",
       "2        Yok  \n",
       "3        Var  \n",
       "4        Yok  "
      ]
     },
     "execution_count": 2,
     "metadata": {},
     "output_type": "execute_result"
    }
   ],
   "source": [
    "kalp.head() #ilk 5 veri göster"
   ]
  },
  {
   "cell_type": "code",
   "execution_count": null,
   "id": "76eb0978",
   "metadata": {
    "id": "76eb0978",
    "outputId": "623ee583-35d2-4051-9744-f18d25bf9eee"
   },
   "outputs": [
    {
     "data": {
      "text/plain": [
       "Index(['Yas', 'Cinsiyet', 'Gogus_agrisi_tipi', 'Dinlenme_kan_basinci',\n",
       "       'Kolesterol', 'Aclik_kan_sekeri',\n",
       "       'Istirahat_elektrokardiyogram_sonuclari', 'Maximum_kalp_atis_hizi',\n",
       "       'Egzersize_bagli_anjina', 'st_segmentinin_egimi', 'Kalp_hasta'],\n",
       "      dtype='object')"
      ]
     },
     "execution_count": 3,
     "metadata": {},
     "output_type": "execute_result"
    }
   ],
   "source": [
    "kalp.columns #sütunları göster"
   ]
  },
  {
   "cell_type": "code",
   "execution_count": null,
   "id": "6dbbaade",
   "metadata": {
    "id": "6dbbaade",
    "outputId": "ecb5107c-8ed0-4aa7-e048-14809a11cb7d"
   },
   "outputs": [
    {
     "name": "stdout",
     "output_type": "stream",
     "text": [
      "dataset: 918\n",
      "shape (918, 11)\n"
     ]
    }
   ],
   "source": [
    "print(\"dataset:\", len(kalp)) #veri sayısı\n",
    "print(\"shape\",kalp.shape) #sütun sayısı"
   ]
  },
  {
   "cell_type": "code",
   "execution_count": null,
   "id": "420409cf",
   "metadata": {
    "id": "420409cf"
   },
   "outputs": [],
   "source": [
    "degistir={'Yok': 1 , 'Var': 2}\n",
    "kalp['Kalp_hasta'] = kalp['Kalp_hasta'].map(degistir) #nominal değerleri nümeric yaptı"
   ]
  },
  {
   "cell_type": "code",
   "execution_count": null,
   "id": "a7e7e584",
   "metadata": {
    "id": "a7e7e584",
    "outputId": "886a30c6-ba71-49c1-8e19-739fe2091457"
   },
   "outputs": [
    {
     "data": {
      "text/html": [
       "<div>\n",
       "<style scoped>\n",
       "    .dataframe tbody tr th:only-of-type {\n",
       "        vertical-align: middle;\n",
       "    }\n",
       "\n",
       "    .dataframe tbody tr th {\n",
       "        vertical-align: top;\n",
       "    }\n",
       "\n",
       "    .dataframe thead th {\n",
       "        text-align: right;\n",
       "    }\n",
       "</style>\n",
       "<table border=\"1\" class=\"dataframe\">\n",
       "  <thead>\n",
       "    <tr style=\"text-align: right;\">\n",
       "      <th></th>\n",
       "      <th>Yas</th>\n",
       "      <th>Cinsiyet</th>\n",
       "      <th>Gogus_agrisi_tipi</th>\n",
       "      <th>Dinlenme_kan_basinci</th>\n",
       "      <th>Kolesterol</th>\n",
       "      <th>Aclik_kan_sekeri</th>\n",
       "      <th>Istirahat_elektrokardiyogram_sonuclari</th>\n",
       "      <th>Maximum_kalp_atis_hizi</th>\n",
       "      <th>Egzersize_bagli_anjina</th>\n",
       "      <th>st_segmentinin_egimi</th>\n",
       "      <th>Kalp_hasta</th>\n",
       "    </tr>\n",
       "  </thead>\n",
       "  <tbody>\n",
       "    <tr>\n",
       "      <th>0</th>\n",
       "      <td>40</td>\n",
       "      <td>2</td>\n",
       "      <td>3</td>\n",
       "      <td>140</td>\n",
       "      <td>289</td>\n",
       "      <td>1</td>\n",
       "      <td>1</td>\n",
       "      <td>172</td>\n",
       "      <td>2</td>\n",
       "      <td>3</td>\n",
       "      <td>1</td>\n",
       "    </tr>\n",
       "    <tr>\n",
       "      <th>1</th>\n",
       "      <td>49</td>\n",
       "      <td>1</td>\n",
       "      <td>2</td>\n",
       "      <td>160</td>\n",
       "      <td>180</td>\n",
       "      <td>1</td>\n",
       "      <td>1</td>\n",
       "      <td>156</td>\n",
       "      <td>2</td>\n",
       "      <td>2</td>\n",
       "      <td>2</td>\n",
       "    </tr>\n",
       "    <tr>\n",
       "      <th>2</th>\n",
       "      <td>37</td>\n",
       "      <td>2</td>\n",
       "      <td>3</td>\n",
       "      <td>130</td>\n",
       "      <td>283</td>\n",
       "      <td>1</td>\n",
       "      <td>2</td>\n",
       "      <td>98</td>\n",
       "      <td>2</td>\n",
       "      <td>3</td>\n",
       "      <td>1</td>\n",
       "    </tr>\n",
       "    <tr>\n",
       "      <th>3</th>\n",
       "      <td>48</td>\n",
       "      <td>1</td>\n",
       "      <td>1</td>\n",
       "      <td>138</td>\n",
       "      <td>214</td>\n",
       "      <td>1</td>\n",
       "      <td>1</td>\n",
       "      <td>108</td>\n",
       "      <td>1</td>\n",
       "      <td>2</td>\n",
       "      <td>2</td>\n",
       "    </tr>\n",
       "    <tr>\n",
       "      <th>4</th>\n",
       "      <td>54</td>\n",
       "      <td>2</td>\n",
       "      <td>2</td>\n",
       "      <td>150</td>\n",
       "      <td>195</td>\n",
       "      <td>1</td>\n",
       "      <td>1</td>\n",
       "      <td>122</td>\n",
       "      <td>2</td>\n",
       "      <td>3</td>\n",
       "      <td>1</td>\n",
       "    </tr>\n",
       "  </tbody>\n",
       "</table>\n",
       "</div>"
      ],
      "text/plain": [
       "   Yas  Cinsiyet  Gogus_agrisi_tipi  Dinlenme_kan_basinci  Kolesterol  \\\n",
       "0   40         2                  3                   140         289   \n",
       "1   49         1                  2                   160         180   \n",
       "2   37         2                  3                   130         283   \n",
       "3   48         1                  1                   138         214   \n",
       "4   54         2                  2                   150         195   \n",
       "\n",
       "   Aclik_kan_sekeri  Istirahat_elektrokardiyogram_sonuclari  \\\n",
       "0                 1                                       1   \n",
       "1                 1                                       1   \n",
       "2                 1                                       2   \n",
       "3                 1                                       1   \n",
       "4                 1                                       1   \n",
       "\n",
       "   Maximum_kalp_atis_hizi  Egzersize_bagli_anjina  st_segmentinin_egimi  \\\n",
       "0                     172                       2                     3   \n",
       "1                     156                       2                     2   \n",
       "2                      98                       2                     3   \n",
       "3                     108                       1                     2   \n",
       "4                     122                       2                     3   \n",
       "\n",
       "   Kalp_hasta  \n",
       "0           1  \n",
       "1           2  \n",
       "2           1  \n",
       "3           2  \n",
       "4           1  "
      ]
     },
     "execution_count": 6,
     "metadata": {},
     "output_type": "execute_result"
    }
   ],
   "source": [
    "kalp.head()"
   ]
  },
  {
   "cell_type": "code",
   "execution_count": null,
   "id": "5201a4af",
   "metadata": {
    "id": "5201a4af"
   },
   "outputs": [],
   "source": [
    "nitelikler=['Yas','Cinsiyet','Gogus_agrisi_tipi','Dinlenme_kan_basinci','Kolesterol','Aclik_kan_sekeri','Istirahat_elektrokardiyogram_sonuclari','Maximum_kalp_atis_hizi','Egzersize_bagli_anjina','st_segmentinin_egimi']"
   ]
  },
  {
   "cell_type": "code",
   "execution_count": null,
   "id": "2e51a440",
   "metadata": {
    "id": "2e51a440",
    "outputId": "cd6ff1c0-416b-483f-e249-adb10e7d87a1"
   },
   "outputs": [
    {
     "name": "stdout",
     "output_type": "stream",
     "text": [
      "['Yas', 'Cinsiyet', 'Gogus_agrisi_tipi', 'Dinlenme_kan_basinci', 'Kolesterol', 'Aclik_kan_sekeri', 'Istirahat_elektrokardiyogram_sonuclari', 'Maximum_kalp_atis_hizi', 'Egzersize_bagli_anjina', 'st_segmentinin_egimi']\n",
      "10\n"
     ]
    }
   ],
   "source": [
    "print(nitelikler) #nitelikleri yazdır\n",
    "print(len(nitelikler)) #niteliklerin uzunluğu"
   ]
  },
  {
   "cell_type": "code",
   "execution_count": null,
   "id": "fae0f811",
   "metadata": {
    "id": "fae0f811"
   },
   "outputs": [],
   "source": [
    "X=kalp[nitelikler] #x'e nitelikleri ata\n",
    "y=kalp['Kalp_hasta'] #y'ye hedef sınıfı ata"
   ]
  },
  {
   "cell_type": "code",
   "execution_count": null,
   "id": "8bcefb07",
   "metadata": {
    "id": "8bcefb07"
   },
   "outputs": [],
   "source": [
    "X=kalp.iloc[:,:10]\n",
    "y=kalp.iloc[:,-1] "
   ]
  },
  {
   "cell_type": "code",
   "execution_count": null,
   "id": "54fafe54",
   "metadata": {
    "id": "54fafe54",
    "outputId": "122d5e97-54f7-4842-e04d-5628dc082a78"
   },
   "outputs": [
    {
     "name": "stdout",
     "output_type": "stream",
     "text": [
      "0      1\n",
      "1      2\n",
      "2      1\n",
      "3      2\n",
      "4      1\n",
      "      ..\n",
      "913    2\n",
      "914    2\n",
      "915    2\n",
      "916    2\n",
      "917    1\n",
      "Name: Kalp_hasta, Length: 918, dtype: int64\n"
     ]
    }
   ],
   "source": [
    "print(y)"
   ]
  },
  {
   "cell_type": "code",
   "execution_count": null,
   "id": "ad7a2cb9",
   "metadata": {
    "id": "ad7a2cb9",
    "outputId": "039f037f-cf44-4330-96ca-2567777f80d4",
    "scrolled": true
   },
   "outputs": [
    {
     "name": "stdout",
     "output_type": "stream",
     "text": [
      "Egitim seti: 0.8598130841121495\n",
      "Test seti: 0.894927536231884\n",
      "Accuracy: 89.4927536231884\n",
      "[1]\n"
     ]
    },
    {
     "name": "stderr",
     "output_type": "stream",
     "text": [
      "C:\\ProgramData\\Anaconda3\\lib\\site-packages\\sklearn\\base.py:450: UserWarning: X does not have valid feature names, but DecisionTreeClassifier was fitted with feature names\n",
      "  warnings.warn(\n"
     ]
    }
   ],
   "source": [
    "from sklearn.model_selection import train_test_split\n",
    "import sklearn.metrics as accuracy_score \n",
    "import sklearn.metrics as metrics\n",
    "\n",
    "X_train, X_test, y_train, y_test = train_test_split(X, y, test_size=0.30, random_state=149)\n",
    "dtree =DecisionTreeClassifier(criterion='gini',max_depth=4)\n",
    "dtree = dtree.fit(X_train,y_train)\n",
    "\n",
    "print('Egitim seti:',dtree.score(X_train,y_train))\n",
    "print('Test seti:',dtree.score(X_test,y_test))\n",
    "\n",
    "y_pred = dtree.predict(X_test)\n",
    "\n",
    "print(\"Accuracy:\",metrics.accuracy_score(y_test, y_pred)*100)\n",
    "print(dtree.predict([[37, 2, 3, 130, 283 , 1, 2, 98, 2, 3]]))\n",
    "\n"
   ]
  },
  {
   "cell_type": "code",
   "execution_count": null,
   "id": "f44ed2ba",
   "metadata": {
    "id": "f44ed2ba",
    "outputId": "03013d47-e2cc-40c2-9b8f-5d995168dc7b"
   },
   "outputs": [
    {
     "name": "stdout",
     "output_type": "stream",
     "text": [
      "88.76811594202898\n",
      "random state:  149\n",
      "n_neighbors:  4\n"
     ]
    }
   ],
   "source": [
    "from sklearn.model_selection import train_test_split\n",
    "import sklearn.metrics as accuracy_score \n",
    "import sklearn.metrics as metrics\n",
    "\n",
    "x = range(1,10)\n",
    "b = range(1,300)\n",
    "\n",
    "listedogruluk=[]\n",
    "listerandomstate=[]\n",
    "listeneighbors=[]\n",
    "for n in x:\n",
    "    for a in b:\n",
    "        X_train, X_test, y_train, y_test = train_test_split(X, y, test_size=0.3, random_state=a)\n",
    "        dtree =DecisionTreeClassifier(criterion='gini',max_depth=n)\n",
    "        dtree = dtree.fit(X_train,y_train)\n",
    "        y_pred = dtree.predict(X_test)\n",
    "        listerandomstate.append(a)\n",
    "        listeneighbors.append(n)\n",
    "        listedogruluk.append(metrics.accuracy_score(y_test, y_pred)*100)\n",
    "print(max(listedogruluk))\n",
    "#print(listedogruluk.index(max(listedogruluk)))\n",
    "print(\"random state: \",listerandomstate[listedogruluk.index(max(listedogruluk))])\n",
    "print(\"n_neighbors: \",listeneighbors[listedogruluk.index(max(listedogruluk))])"
   ]
  },
  {
   "cell_type": "code",
   "execution_count": null,
   "id": "92df3e54",
   "metadata": {
    "id": "92df3e54",
    "outputId": "cef25a58-1f17-45fc-ef0b-f4145010cde2"
   },
   "outputs": [
    {
     "name": "stdout",
     "output_type": "stream",
     "text": [
      "Collecting graphvizNote: you may need to restart the kernel to use updated packages.\n",
      "  Downloading graphviz-0.20.1-py3-none-any.whl (47 kB)\n",
      "Installing collected packages: graphviz\n",
      "Successfully installed graphviz-0.20.1\n",
      "\n"
     ]
    }
   ],
   "source": [
    "pip install graphviz"
   ]
  },
  {
   "cell_type": "code",
   "execution_count": null,
   "id": "f88eb033",
   "metadata": {
    "id": "f88eb033",
    "outputId": "ec9754f2-74b9-4082-b520-fa2d2af3399b"
   },
   "outputs": [
    {
     "name": "stdout",
     "output_type": "stream",
     "text": [
      "|--- st_segmentinin_egimi <= 2.50\n",
      "|   |--- Cinsiyet <= 1.50\n",
      "|   |   |--- Aclik_kan_sekeri <= 1.50\n",
      "|   |   |   |--- Gogus_agrisi_tipi <= 1.50\n",
      "|   |   |   |   |--- class: 2\n",
      "|   |   |   |--- Gogus_agrisi_tipi >  1.50\n",
      "|   |   |   |   |--- class: 1\n",
      "|   |   |--- Aclik_kan_sekeri >  1.50\n",
      "|   |   |   |--- class: 2\n",
      "|   |--- Cinsiyet >  1.50\n",
      "|   |   |--- Gogus_agrisi_tipi <= 1.50\n",
      "|   |   |   |--- Dinlenme_kan_basinci <= 87.50\n",
      "|   |   |   |   |--- class: 1\n",
      "|   |   |   |--- Dinlenme_kan_basinci >  87.50\n",
      "|   |   |   |   |--- class: 2\n",
      "|   |   |--- Gogus_agrisi_tipi >  1.50\n",
      "|   |   |   |--- Maximum_kalp_atis_hizi <= 137.00\n",
      "|   |   |   |   |--- class: 2\n",
      "|   |   |   |--- Maximum_kalp_atis_hizi >  137.00\n",
      "|   |   |   |   |--- class: 2\n",
      "|--- st_segmentinin_egimi >  2.50\n",
      "|   |--- Gogus_agrisi_tipi <= 1.50\n",
      "|   |   |--- Aclik_kan_sekeri <= 1.50\n",
      "|   |   |   |--- Egzersize_bagli_anjina <= 1.50\n",
      "|   |   |   |   |--- class: 2\n",
      "|   |   |   |--- Egzersize_bagli_anjina >  1.50\n",
      "|   |   |   |   |--- class: 1\n",
      "|   |   |--- Aclik_kan_sekeri >  1.50\n",
      "|   |   |   |--- Kolesterol <= 117.00\n",
      "|   |   |   |   |--- class: 2\n",
      "|   |   |   |--- Kolesterol >  117.00\n",
      "|   |   |   |   |--- class: 1\n",
      "|   |--- Gogus_agrisi_tipi >  1.50\n",
      "|   |   |--- Kolesterol <= 53.50\n",
      "|   |   |   |--- Aclik_kan_sekeri <= 1.50\n",
      "|   |   |   |   |--- class: 1\n",
      "|   |   |   |--- Aclik_kan_sekeri >  1.50\n",
      "|   |   |   |   |--- class: 2\n",
      "|   |   |--- Kolesterol >  53.50\n",
      "|   |   |   |--- Yas <= 56.50\n",
      "|   |   |   |   |--- class: 1\n",
      "|   |   |   |--- Yas >  56.50\n",
      "|   |   |   |   |--- class: 1\n",
      "\n"
     ]
    }
   ],
   "source": [
    "from sklearn.tree import export_text\n",
    "r = export_text(dtree, feature_names=nitelikler)\n",
    "print(r)"
   ]
  },
  {
   "cell_type": "code",
   "execution_count": null,
   "id": "d6460db4",
   "metadata": {
    "id": "d6460db4",
    "outputId": "16e998ad-8a3d-489e-97dc-37d6362a55e4"
   },
   "outputs": [
    {
     "data": {
      "text/plain": [
       "True"
      ]
     },
     "execution_count": 14,
     "metadata": {},
     "output_type": "execute_result"
    }
   ],
   "source": [
    "from sklearn.tree import DecisionTreeClassifier\n",
    "from sklearn import tree\n",
    "import graphviz \n",
    "data = tree.export_graphviz(dtree,out_file=None,\n",
    "                           filled=True, rounded=True, \n",
    "                           special_characters=True, feature_names=nitelikler)\n",
    "graph = graphviz.Source(data)  \n",
    "#print(graph)\n",
    "graph = pydotplus.graph_from_dot_data(data)\n",
    "graph.write_png('mydecisiontree.png')"
   ]
  },
  {
   "cell_type": "code",
   "execution_count": null,
   "id": "b9fae28a",
   "metadata": {
    "id": "b9fae28a",
    "outputId": "6d3597bc-a153-4e37-cc9c-2d86233669f0"
   },
   "outputs": [
    {
     "data": {
      "text/plain": [
       "[Text(0.45535714285714285, 0.9, 'X[9] <= 2.5\\ngini = 0.496\\nsamples = 642\\nvalue = [292, 350]'),\n",
       " Text(0.19642857142857142, 0.7, 'X[1] <= 1.5\\ngini = 0.325\\nsamples = 367\\nvalue = [75, 292]'),\n",
       " Text(0.10714285714285714, 0.5, 'X[5] <= 1.5\\ngini = 0.496\\nsamples = 55\\nvalue = [30, 25]'),\n",
       " Text(0.07142857142857142, 0.3, 'X[2] <= 1.5\\ngini = 0.462\\nsamples = 47\\nvalue = [30, 17]'),\n",
       " Text(0.03571428571428571, 0.1, 'gini = 0.494\\nsamples = 27\\nvalue = [12, 15]'),\n",
       " Text(0.10714285714285714, 0.1, 'gini = 0.18\\nsamples = 20\\nvalue = [18, 2]'),\n",
       " Text(0.14285714285714285, 0.3, 'gini = 0.0\\nsamples = 8\\nvalue = [0, 8]'),\n",
       " Text(0.2857142857142857, 0.5, 'X[2] <= 1.5\\ngini = 0.247\\nsamples = 312\\nvalue = [45, 267]'),\n",
       " Text(0.21428571428571427, 0.3, 'X[3] <= 87.5\\ngini = 0.147\\nsamples = 225\\nvalue = [18, 207]'),\n",
       " Text(0.17857142857142858, 0.1, 'gini = 0.0\\nsamples = 1\\nvalue = [1, 0]'),\n",
       " Text(0.25, 0.1, 'gini = 0.14\\nsamples = 224\\nvalue = [17, 207]'),\n",
       " Text(0.35714285714285715, 0.3, 'X[7] <= 137.0\\ngini = 0.428\\nsamples = 87\\nvalue = [27, 60]'),\n",
       " Text(0.32142857142857145, 0.1, 'gini = 0.24\\nsamples = 43\\nvalue = [6, 37]'),\n",
       " Text(0.39285714285714285, 0.1, 'gini = 0.499\\nsamples = 44\\nvalue = [21, 23]'),\n",
       " Text(0.7142857142857143, 0.7, 'X[2] <= 1.5\\ngini = 0.333\\nsamples = 275\\nvalue = [217, 58]'),\n",
       " Text(0.5714285714285714, 0.5, 'X[5] <= 1.5\\ngini = 0.5\\nsamples = 86\\nvalue = [42, 44]'),\n",
       " Text(0.5, 0.3, 'X[8] <= 1.5\\ngini = 0.476\\nsamples = 64\\nvalue = [39, 25]'),\n",
       " Text(0.4642857142857143, 0.1, 'gini = 0.463\\nsamples = 22\\nvalue = [8, 14]'),\n",
       " Text(0.5357142857142857, 0.1, 'gini = 0.387\\nsamples = 42\\nvalue = [31, 11]'),\n",
       " Text(0.6428571428571429, 0.3, 'X[4] <= 117.0\\ngini = 0.236\\nsamples = 22\\nvalue = [3, 19]'),\n",
       " Text(0.6071428571428571, 0.1, 'gini = 0.0\\nsamples = 16\\nvalue = [0, 16]'),\n",
       " Text(0.6785714285714286, 0.1, 'gini = 0.5\\nsamples = 6\\nvalue = [3, 3]'),\n",
       " Text(0.8571428571428571, 0.5, 'X[4] <= 53.5\\ngini = 0.137\\nsamples = 189\\nvalue = [175, 14]'),\n",
       " Text(0.7857142857142857, 0.3, 'X[5] <= 1.5\\ngini = 0.497\\nsamples = 13\\nvalue = [7, 6]'),\n",
       " Text(0.75, 0.1, 'gini = 0.346\\nsamples = 9\\nvalue = [7, 2]'),\n",
       " Text(0.8214285714285714, 0.1, 'gini = 0.0\\nsamples = 4\\nvalue = [0, 4]'),\n",
       " Text(0.9285714285714286, 0.3, 'X[0] <= 56.5\\ngini = 0.087\\nsamples = 176\\nvalue = [168, 8]'),\n",
       " Text(0.8928571428571429, 0.1, 'gini = 0.014\\nsamples = 138\\nvalue = [137, 1]'),\n",
       " Text(0.9642857142857143, 0.1, 'gini = 0.301\\nsamples = 38\\nvalue = [31, 7]')]"
      ]
     },
     "execution_count": 17,
     "metadata": {},
     "output_type": "execute_result"
    },
    {
     "data": {
      "image/png": "[encoded data removed]",
      "text/plain": [
       "<Figure size 432x288 with 1 Axes>"
      ]
     },
     "metadata": {
      "needs_background": "light"
     },
     "output_type": "display_data"
    }
   ],
   "source": [
    "tree.plot_tree(dtree)"
   ]
  },
  {
   "cell_type": "code",
   "execution_count": null,
   "id": "cebc0b61",
   "metadata": {
    "id": "cebc0b61",
    "outputId": "b07ebc21-9fa8-443b-d43d-18c9fa97979e"
   },
   "outputs": [
    {
     "data": {
      "image/png": "[encoded data removed]",
      "text/plain": [
       "<Figure size 432x288 with 1 Axes>"
      ]
     },
     "metadata": {
      "needs_background": "light"
     },
     "output_type": "display_data"
    }
   ],
   "source": [
    "img=pltimg.imread('mydecisiontree.png')\n",
    "imgplot = plt.imshow(img)\n",
    "plt.show()"
   ]
  },
  {
   "cell_type": "code",
   "execution_count": null,
   "id": "570baf13",
   "metadata": {
    "id": "570baf13",
    "outputId": "6e8c1fa2-b791-49fb-d44a-720bba59d065"
   },
   "outputs": [
    {
     "data": {
      "text/plain": [
       "Yas                                       0\n",
       "Cinsiyet                                  0\n",
       "Gogus_agrisi_tipi                         0\n",
       "Dinlenme_kan_basinci                      0\n",
       "Kolesterol                                0\n",
       "Aclik_kan_sekeri                          0\n",
       "Istirahat_elektrokardiyogram_sonuclari    0\n",
       "Maximum_kalp_atis_hizi                    0\n",
       "Egzersize_bagli_anjina                    0\n",
       "st_segmentinin_egimi                      0\n",
       "Kalp_hasta                                0\n",
       "dtype: int64"
      ]
     },
     "execution_count": 19,
     "metadata": {},
     "output_type": "execute_result"
    }
   ],
   "source": [
    "kalp.isnull().sum() #verisetinde boş veri var mı ona baktık."
   ]
  },
  {
   "cell_type": "code",
   "execution_count": null,
   "id": "632780cc",
   "metadata": {
    "id": "632780cc",
    "outputId": "6752e2d3-14af-478b-ea08-e19da3d88bb0"
   },
   "outputs": [
    {
     "name": "stdout",
     "output_type": "stream",
     "text": [
      "[[104  14]\n",
      " [ 15 143]]\n",
      "              precision    recall  f1-score   support\n",
      "\n",
      "           1       0.87      0.88      0.88       118\n",
      "           2       0.91      0.91      0.91       158\n",
      "\n",
      "    accuracy                           0.89       276\n",
      "   macro avg       0.89      0.89      0.89       276\n",
      "weighted avg       0.90      0.89      0.89       276\n",
      "\n"
     ]
    }
   ],
   "source": [
    "from sklearn.metrics import confusion_matrix\n",
    "print(confusion_matrix(y_test, y_pred))\n",
    "\n",
    "from sklearn.metrics import classification_report\n",
    "print(classification_report(y_test, y_pred))"
   ]
  },
  {
   "cell_type": "code",
   "execution_count": null,
   "id": "74fe7c2c",
   "metadata": {
    "id": "74fe7c2c",
    "outputId": "b88f06ad-42fd-4f77-f4ed-2a8adf4e19ce"
   },
   "outputs": [
    {
     "data": {
      "image/png": "[encoded data removed]",
      "text/plain": [
       "<Figure size 432x288 with 2 Axes>"
      ]
     },
     "metadata": {
      "needs_background": "light"
     },
     "output_type": "display_data"
    }
   ],
   "source": [
    "import seaborn as sns\n",
    "sns.heatmap(confusion_matrix(y_test,y_pred),annot=True,cmap=plt.cm.YlOrRd)\n",
    "plt.show()"
   ]
  },
  {
   "cell_type": "code",
   "execution_count": null,
   "id": "78d478e0",
   "metadata": {
    "id": "78d478e0",
    "outputId": "2d339b2f-cd46-4320-b692-7f676b999985"
   },
   "outputs": [
    {
     "name": "stdout",
     "output_type": "stream",
     "text": [
      "Mean Absolute Error:  0.10507246376811594\n",
      "rmse 0.3241488296571745\n",
      "roc: 0.8932096116713152\n"
     ]
    }
   ],
   "source": [
    "from sklearn.metrics import mean_squared_error\n",
    "from sklearn.metrics import mean_absolute_error\n",
    "from math import sqrt\n",
    "from sklearn import metrics\n",
    "\n",
    "print(\"Mean Absolute Error: \",metrics.mean_absolute_error(y_test, y_pred))\n",
    "print(\"rmse\",sqrt(mean_squared_error(y_test,y_pred)))\n",
    "import numpy as np\n",
    "from sklearn.metrics import matthews_corrcoef\n",
    "matthews_corrcoef(y_test, y_pred)*100\n",
    "from sklearn.metrics import cohen_kappa_score\n",
    "cohen_kappa_score(y_test, y_pred)\n",
    "from sklearn.metrics import roc_auc_score\n",
    "print(\"roc:\",metrics.roc_auc_score(y_test,y_pred))"
   ]
  },
  {
   "cell_type": "code",
   "execution_count": null,
   "id": "2f011094",
   "metadata": {
    "id": "2f011094",
    "outputId": "e812cce7-d00f-40b8-925e-f6d2ccaf2b00"
   },
   "outputs": [
    {
     "data": {
      "text/plain": [
       "78.55979855271373"
      ]
     },
     "execution_count": 25,
     "metadata": {},
     "output_type": "execute_result"
    }
   ],
   "source": [
    "from sklearn.metrics import matthews_corrcoef\n",
    "matthews_corrcoef(y_test, y_pred)*100"
   ]
  },
  {
   "cell_type": "code",
   "execution_count": null,
   "id": "197bdbcf",
   "metadata": {
    "id": "197bdbcf",
    "outputId": "e2dfd8c2-5845-4e0d-d2a3-0f4b774d5431"
   },
   "outputs": [
    {
     "data": {
      "text/plain": [
       "0.7855765109301329"
      ]
     },
     "execution_count": 26,
     "metadata": {},
     "output_type": "execute_result"
    }
   ],
   "source": [
    "from sklearn.metrics import cohen_kappa_score\n",
    "cohen_kappa_score(y_test, y_pred)"
   ]
  },
  {
   "cell_type": "code",
   "execution_count": null,
   "id": "17ca6722",
   "metadata": {
    "id": "17ca6722"
   },
   "outputs": [],
   "source": []
  }
 ],
 "metadata": {
  "colab": {
   "provenance": []
  },
  "kernelspec": {
   "display_name": "Python 3 (ipykernel)",
   "language": "python",
   "name": "python3"
  },
  "language_info": {
   "codemirror_mode": {
    "name": "ipython",
    "version": 3
   },
   "file_extension": ".py",
   "mimetype": "text/x-python",
   "name": "python",
   "nbconvert_exporter": "python",
   "pygments_lexer": "ipython3",
   "version": "3.11.5"
  }
 },
 "nbformat": 4,
 "nbformat_minor": 5
}
